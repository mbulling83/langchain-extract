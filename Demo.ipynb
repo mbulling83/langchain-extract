{
 "cells": [
  {
   "cell_type": "code",
   "execution_count": 1,
   "metadata": {},
   "outputs": [],
   "source": [
    "import requests"
   ]
  },
  {
   "cell_type": "code",
   "execution_count": 4,
   "metadata": {},
   "outputs": [],
   "source": [
    "pdf_url = \"https://s23.q4cdn.com/407969754/files/doc_earnings/2023/q4/transcript/Uber-Q4-23-Prepared-Remarks.pdf\"\n",
    "\n",
    "# Get PDF bytes\n",
    "pdf_response = requests.get(pdf_url)\n",
    "assert(pdf_response.status_code == 200)\n",
    "pdf_bytes = pdf_response.content"
   ]
  },
  {
   "cell_type": "code",
   "execution_count": 5,
   "metadata": {},
   "outputs": [],
   "source": [
    "from uuid import uuid4\n",
    "\n",
    "user_id = str(uuid4())\n",
    "headers = {\"x-key\": user_id}"
   ]
  },
  {
   "cell_type": "code",
   "execution_count": 6,
   "metadata": {},
   "outputs": [],
   "source": [
    "from pydantic import BaseModel, Field\n",
    "\n",
    "class FinancialData(BaseModel):\n",
    "    name: str = Field(..., description=\"Name of the financial figure, such as revenue.\")\n",
    "    value: float = Field(..., description=\"Nominal earnings in local currency.\")\n",
    "    scale: str = Field(..., description=\"Scale of figure, such as MM, B, or percent.\")\n",
    "    period_start: str = Field(..., description=\"The start of the time period in ISO format.\")\n",
    "    period_duration: int = Field(..., description=\"Duration of period, in months\")\n",
    "    evidence: str = Field(..., description=\"Verbatim sentence of text where figure was found.\")"
   ]
  },
  {
   "cell_type": "code",
   "execution_count": 15,
   "metadata": {},
   "outputs": [],
   "source": [
    "url = \"http://localhost:8000\"\n",
    "\n",
    "data = {\n",
    "    \"user_id\": user_id,\n",
    "    \"description\": \"Financial revenues and other figures.\",\n",
    "    \"schema\": FinancialData.schema(),\n",
    "    \"instruction\": (\n",
    "        \"Extract standard financial figures, specifically earnings and \"\n",
    "        \"revenue figures. Only extract historical facts, not estimates or guidance.\"\n",
    "    )\n",
    "}\n",
    "\n",
    "response = requests.post(f\"{url}/extractors\", json=data, headers=headers)\n",
    "extractor = response.json()"
   ]
  },
  {
   "cell_type": "code",
   "execution_count": 18,
   "metadata": {},
   "outputs": [
    {
     "data": {
      "text/plain": [
       "{'data': [{'name': 'revenue',\n",
       "   'scale': 'B',\n",
       "   'value': 9.9,\n",
       "   'evidence': 'Both Gross Bookings and Adjusted EBITDA surpassed the high end of our Q4 outlook. Gross Bookings growth accelerated to 21% YoY on a constant-currency basis (23% excluding Freight), as we generated Gross Bookings of $37.6 billion. Foreign exchange was a tailwind of roughly $500 million YoY (or roughly 160 bps). We grew our revenue by 13% YoY on a constant-currency basis to $9.9 billion.',\n",
       "   'period_start': '2023-10-01',\n",
       "   'period_duration': 3},\n",
       "  {'name': 'ebitda',\n",
       "   'scale': 'B',\n",
       "   'value': 1.3,\n",
       "   'evidence': 'We maintained our focus on operational eﬃciency and disciplined expense management, which contributed to all-time high Adjusted EBITDA of $1.3 billion (note: foreign exchange was a $30 million YoY tailwind). This result represents a record Adjusted EBITDA margin of 3.4% of Gross Bookings, an increase of 130 bps YoY.',\n",
       "   'period_start': '2023-10-01',\n",
       "   'period_duration': 3},\n",
       "  {'name': 'adjusted ebitda',\n",
       "   'scale': 'B',\n",
       "   'value': 1.3,\n",
       "   'evidence': 'We expect Adjusted EBITDA of $1.26 billion to $1.34 billion.',\n",
       "   'period_start': '2023-01-01',\n",
       "   'period_duration': 12}],\n",
       " 'content_too_long': False}"
      ]
     },
     "execution_count": 18,
     "metadata": {},
     "output_type": "execute_result"
    }
   ],
   "source": [
    "result = requests.post(\n",
    "    f\"{url}/extract\",\n",
    "    data={\"extractor_id\": extractor[\"uuid\"], \"model_name\": \"gpt-3.5-turbo\"},\n",
    "    files={\"file\": pdf_bytes},\n",
    "    headers=headers,\n",
    ")\n",
    "\n",
    "result.json()"
   ]
  },
  {
   "cell_type": "code",
   "execution_count": 17,
   "metadata": {},
   "outputs": [],
   "source": [
    "examples = [\n",
    "    {\n",
    "        \"text\": \"In 2022, Revenue was $1 million and EBIT was $2M.\",\n",
    "        \"output\": [\n",
    "            FinancialData(\n",
    "                name=\"revenue\",\n",
    "                value=1,\n",
    "                scale=\"MM\",\n",
    "                period_start=\"2022-01-01\",\n",
    "                period_duration=12,\n",
    "                evidence=\"In 2022, Revenue was $1 million and EBIT was $2M.\",\n",
    "            ).dict(),\n",
    "            FinancialData(\n",
    "                name=\"ebit\",\n",
    "                value=2,\n",
    "                scale=\"MM\",\n",
    "                period_start=\"2022-01-01\",\n",
    "                period_duration=12,\n",
    "                evidence=\"In 2022, Revenue was $1 million and EBIT was $2M.\",\n",
    "            ).dict()\n",
    "        ],\n",
    "    },\n",
    "]\n",
    "\n",
    "responses = []\n",
    "for example in examples:\n",
    "    create_request = {\n",
    "        \"extractor_id\": extractor[\"uuid\"],\n",
    "        \"content\": example[\"text\"],\n",
    "        \"output\": example['output'],\n",
    "    }\n",
    "    response = requests.post(f\"{url}/examples\", json=create_request, headers=headers)\n",
    "    responses.append(response)"
   ]
  }
 ],
 "metadata": {
  "kernelspec": {
   "display_name": "langchainextract",
   "language": "python",
   "name": "python3"
  },
  "language_info": {
   "codemirror_mode": {
    "name": "ipython",
    "version": 3
   },
   "file_extension": ".py",
   "mimetype": "text/x-python",
   "name": "python",
   "nbconvert_exporter": "python",
   "pygments_lexer": "ipython3",
   "version": "3.9.17"
  }
 },
 "nbformat": 4,
 "nbformat_minor": 2
}
